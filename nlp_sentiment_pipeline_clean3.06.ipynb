{
 "cells": [
  {
   "cell_type": "markdown",
   "metadata": {},
   "source": [
    "# 📘 Pełny pipeline: Klasyfikacja sentymentu po polsku (PolEmo 2.0)"
   ]
  },
  {
   "cell_type": "code",
   "execution_count": 1,
   "metadata": {},
   "outputs": [],
   "source": [
    "import pandas as pd\n",
    "from sklearn.feature_extraction.text import TfidfVectorizer\n",
    "from sklearn.naive_bayes import MultinomialNB\n",
    "from sklearn.metrics import classification_report\n",
    "import joblib"
   ]
  },
  {
   "cell_type": "code",
   "execution_count": 2,
   "metadata": {},
   "outputs": [],
   "source": [
    "# 📥 Wczytanie danych\n",
    "def load_dataset(path):\n",
    "    texts, labels = [], []\n",
    "    with open(path, encoding='utf-8') as f:\n",
    "        for line in f:\n",
    "            if \"__label__\" in line:\n",
    "                parts = line.rsplit(\" __label__\", 1)\n",
    "                texts.append(parts[0].strip())\n",
    "                labels.append(\"__label__\" + parts[1].strip())\n",
    "    return pd.DataFrame({\"text\": texts, \"label\": labels})\n",
    "\n",
    "label_map = {\n",
    "    \"__label__meta_plus_m\": \"positive\",\n",
    "    \"__label__meta_minus_m\": \"negative\",\n",
    "    \"__label__meta_zero\": \"neutral\",\n",
    "    \"__label__meta_amb\": \"ambiguous\"\n",
    "}\n",
    "\n",
    "train_df = load_dataset(\"all.text.train.txt\")\n",
    "dev_df = load_dataset(\"all.text.dev.txt\")\n",
    "test_df = load_dataset(\"all.text.test.txt\")\n",
    "\n",
    "for df in [train_df, dev_df, test_df]:\n",
    "    df[\"sentiment\"] = df[\"label\"].map(label_map)\n",
    "    df.dropna(subset=[\"sentiment\"], inplace=True)\n",
    "    df.drop(df[df[\"sentiment\"] == \"ambiguous\"].index, inplace=True)"
   ]
  },
  {
   "cell_type": "code",
   "execution_count": 3,
   "metadata": {},
   "outputs": [],
   "source": [
    "# 🔠 Wektoryzacja\n",
    "vectorizer = TfidfVectorizer(max_features=5000)\n",
    "X_train_vec = vectorizer.fit_transform(train_df['text'])\n",
    "X_dev_vec = vectorizer.transform(dev_df['text'])\n",
    "X_test_vec = vectorizer.transform(test_df['text'])\n",
    "\n",
    "y_train = train_df['sentiment']\n",
    "y_dev = dev_df['sentiment']\n",
    "y_test = test_df['sentiment']"
   ]
  },
  {
   "cell_type": "code",
   "execution_count": 4,
   "metadata": {},
   "outputs": [
    {
     "name": "stdout",
     "output_type": "stream",
     "text": [
      "              precision    recall  f1-score   support\n",
      "\n",
      "    negative       0.86      0.99      0.92       339\n",
      "     neutral       1.00      0.88      0.94       118\n",
      "    positive       0.97      0.81      0.89       227\n",
      "\n",
      "    accuracy                           0.91       684\n",
      "   macro avg       0.94      0.89      0.91       684\n",
      "weighted avg       0.92      0.91      0.91       684\n",
      "\n"
     ]
    }
   ],
   "source": [
    "# 🤖 Trening i ewaluacja\n",
    "model = MultinomialNB()\n",
    "model.fit(X_train_vec, y_train)\n",
    "y_pred = model.predict(X_test_vec)\n",
    "print(classification_report(y_test, y_pred))"
   ]
  },
  {
   "cell_type": "code",
   "execution_count": 5,
   "metadata": {},
   "outputs": [
    {
     "data": {
      "text/plain": [
       "['tfidf_vectorizer.pkl']"
      ]
     },
     "execution_count": 5,
     "metadata": {},
     "output_type": "execute_result"
    }
   ],
   "source": [
    "# 💾 Zapis modelu i wektoryzatora\n",
    "joblib.dump(model, \"sentiment_model.pkl\")\n",
    "joblib.dump(vectorizer, \"tfidf_vectorizer.pkl\")"
   ]
  },
  {
   "cell_type": "code",
   "execution_count": 6,
   "metadata": {},
   "outputs": [
    {
     "name": "stdout",
     "output_type": "stream",
     "text": [
      "positive\n"
     ]
    }
   ],
   "source": [
    "# 🧠 Wczytanie i predykcja nowego tekstu\n",
    "model = joblib.load(\"sentiment_model.pkl\")\n",
    "vectorizer = joblib.load(\"tfidf_vectorizer.pkl\")\n",
    "\n",
    "def predict_sentiment(text):\n",
    "    vec = vectorizer.transform([text])\n",
    "    return model.predict(vec)[0]\n",
    "\n",
    "# Przykład\n",
    "print(predict_sentiment(\"Obsługa była bardzo miła, a pokój czysty i nowoczesny.\"))"
   ]
  }
 ],
 "metadata": {
  "kernelspec": {
   "display_name": "Python (mlflow-demo)",
   "language": "python",
   "name": "mlflow-demo"
  },
  "language_info": {
   "codemirror_mode": {
    "name": "ipython",
    "version": 3
   },
   "file_extension": ".py",
   "mimetype": "text/x-python",
   "name": "python",
   "nbconvert_exporter": "python",
   "pygments_lexer": "ipython3",
   "version": "3.10.16"
  }
 },
 "nbformat": 4,
 "nbformat_minor": 2
}
